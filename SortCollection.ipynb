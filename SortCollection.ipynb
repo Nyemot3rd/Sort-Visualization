{
  "nbformat": 4,
  "nbformat_minor": 0,
  "metadata": {
    "colab": {
      "provenance": [],
      "toc_visible": true
    },
    "kernelspec": {
      "name": "python3",
      "display_name": "Python 3"
    },
    "language_info": {
      "name": "python"
    }
  },
  "cells": [
    {
      "cell_type": "markdown",
      "source": [
        "#Starting the system"
      ],
      "metadata": {
        "id": "hKvXFpwjnLSv"
      }
    },
    {
      "cell_type": "markdown",
      "source": [
        "Reference:\n",
        "https://colab.research.google.com/drive/1xtiBrGeRHmXY3KSOixkZBf_rJIgBImJu?usp=sharing#scrollTo=EMk8HL92ATLL"
      ],
      "metadata": {
        "id": "uVp4Y1nhrZUU"
      }
    },
    {
      "cell_type": "markdown",
      "source": [
        "##Install pygame"
      ],
      "metadata": {
        "id": "qaba4p2YkYu4"
      }
    },
    {
      "cell_type": "code",
      "source": [
        "!pip install pygame"
      ],
      "metadata": {
        "colab": {
          "base_uri": "https://localhost:8080/"
        },
        "id": "P9Alr42onCjO",
        "outputId": "41eff08c-a74f-4038-bf54-f01107cca7d3"
      },
      "execution_count": 1,
      "outputs": [
        {
          "output_type": "stream",
          "name": "stdout",
          "text": [
            "Looking in indexes: https://pypi.org/simple, https://us-python.pkg.dev/colab-wheels/public/simple/\n",
            "Collecting pygame\n",
            "  Downloading pygame-2.1.2-cp38-cp38-manylinux_2_17_x86_64.manylinux2014_x86_64.whl (21.8 MB)\n",
            "\u001b[2K     \u001b[90m━━━━━━━━━━━━━━━━━━━━━━━━━━━━━━━━━━━━━━━━\u001b[0m \u001b[32m21.8/21.8 MB\u001b[0m \u001b[31m33.3 MB/s\u001b[0m eta \u001b[36m0:00:00\u001b[0m\n",
            "\u001b[?25hInstalling collected packages: pygame\n",
            "Successfully installed pygame-2.1.2\n"
          ]
        }
      ]
    },
    {
      "cell_type": "markdown",
      "source": [
        "##Dependencies"
      ],
      "metadata": {
        "id": "oBOaVrnmmkXm"
      }
    },
    {
      "cell_type": "code",
      "execution_count": 2,
      "metadata": {
        "id": "kF3HOUrMkTYX",
        "colab": {
          "base_uri": "https://localhost:8080/"
        },
        "outputId": "e91acf47-6899-4f8d-ac24-667059017f50"
      },
      "outputs": [
        {
          "output_type": "stream",
          "name": "stdout",
          "text": [
            "pygame 2.1.2 (SDL 2.0.16, Python 3.8.16)\n",
            "Hello from the pygame community. https://www.pygame.org/contribute.html\n"
          ]
        }
      ],
      "source": [
        "import cv2\n",
        "from google.colab.patches import cv2_imshow\n",
        "from google.colab import output\n",
        "import time \n",
        "import os, sys\n",
        "import pygame as pg\n",
        "import random as rd"
      ]
    },
    {
      "cell_type": "markdown",
      "source": [
        "##Fool system to think it has a video access\n",
        "\n"
      ],
      "metadata": {
        "id": "zj8NRmMtnXWw"
      }
    },
    {
      "cell_type": "code",
      "source": [
        "# set SDL to use the dummy NULL video driver, \n",
        "#   so it doesn't need a windowing system.\n",
        "os.environ[\"SDL_VIDEODRIVER\"] = \"dummy\""
      ],
      "metadata": {
        "id": "y4aiFrNhnYae"
      },
      "execution_count": 3,
      "outputs": []
    },
    {
      "cell_type": "markdown",
      "source": [
        "##Screen size\n",
        "Note: Change according to own liking (computer screen)"
      ],
      "metadata": {
        "id": "wNrlelj0qSTk"
      }
    },
    {
      "cell_type": "code",
      "source": [
        "width = 600\n",
        "height = 300\n",
        "screen = pg.display.set_mode((width,height))\n",
        "pg.init()"
      ],
      "metadata": {
        "colab": {
          "base_uri": "https://localhost:8080/"
        },
        "id": "out2Qnp5mr6m",
        "outputId": "6e150519-6907-4e20-ba8e-db73dc653eb1"
      },
      "execution_count": 4,
      "outputs": [
        {
          "output_type": "execute_result",
          "data": {
            "text/plain": [
              "(4, 1)"
            ]
          },
          "metadata": {},
          "execution_count": 4
        }
      ]
    },
    {
      "cell_type": "markdown",
      "source": [
        "## Function to draw a single bar"
      ],
      "metadata": {
        "id": "aIoEkOruqdIl"
      }
    },
    {
      "cell_type": "code",
      "source": [
        "def draw_bar(arr, i, color = pg.Color('Cyan')):\n",
        "    n = len(arr)\n",
        "    w, h = screen.get_size()\n",
        "    bar_width = w // n\n",
        "    bar_height = h // n * arr[i]\n",
        "    x = bar_width * i\n",
        "    y = h - bar_height\n",
        "    bar = pg.Rect(x, y, bar_width, bar_height)\n",
        "    pg.draw.rect(screen, color, bar)"
      ],
      "metadata": {
        "id": "oAJPOs1qnqgG"
      },
      "execution_count": 5,
      "outputs": []
    },
    {
      "cell_type": "markdown",
      "source": [
        "## Function to visualize an entire array using a bar chart"
      ],
      "metadata": {
        "id": "FM8TgEhNqjOD"
      }
    },
    {
      "cell_type": "code",
      "source": [
        "def draw_bars(arr, sel, cmp, piv):\n",
        "    screen.fill(pg.Color('Black'))\n",
        "    if type(sel) == int:\n",
        "        sel=[sel]\n",
        "    if type(cmp) == int:\n",
        "        cmp=[cmp]\n",
        "    if type(piv) == int:\n",
        "        piv=[piv]\n",
        "    for i in range(len(arr)):\n",
        "        if i in sel:\n",
        "            draw_bar(arr, i, pg.Color('Red'))\n",
        "        elif i in cmp:\n",
        "            draw_bar(arr, i, pg.Color('Orange'))\n",
        "        elif i in piv:\n",
        "            draw_bar(arr, i, pg.Color('Green'))\n",
        "        else:\n",
        "            draw_bar(arr, i)"
      ],
      "metadata": {
        "id": "G_DruCyznsam"
      },
      "execution_count": 6,
      "outputs": []
    },
    {
      "cell_type": "markdown",
      "source": [
        "##Change period\n",
        "Note:<br>\n",
        "Set it to your liking<br>\n",
        "Recommended value: >300\n",
        "Value is in milisecods.\n"
      ],
      "metadata": {
        "id": "agySnOKWGdaf"
      }
    },
    {
      "cell_type": "code",
      "source": [
        "CHANGE_PERIOD = 1000"
      ],
      "metadata": {
        "id": "hNz_yM9bG6n_"
      },
      "execution_count": 7,
      "outputs": []
    },
    {
      "cell_type": "markdown",
      "source": [
        "## Display flip using cv2"
      ],
      "metadata": {
        "id": "MqX7RtIHqvdM"
      }
    },
    {
      "cell_type": "code",
      "source": [
        "def display_flip(arr, sel=-1, cmp=-1, piv=-1, time = CHANGE_PERIOD):\n",
        "    draw_bars(arr, sel, cmp, piv)\n",
        "    output.clear()\n",
        "    pg.display.flip()\n",
        "\n",
        "    #convert image so it can be displayed in OpenCV\n",
        "    view = pg.surfarray.array3d(screen)\n",
        "\n",
        "    #  convert from (width, height, channel) to (height, width, channel)\n",
        "    view = view.transpose([1, 0, 2])\n",
        "\n",
        "    #  convert from rgb to bgr\n",
        "    img_bgr = cv2.cvtColor(view, cv2.COLOR_RGB2BGR)\n",
        "\n",
        "    # show the image\n",
        "    cv2_imshow(img_bgr)\n",
        "\n",
        "    # delay\n",
        "    pg.time.wait(time)"
      ],
      "metadata": {
        "id": "Hg0D2SKRqtSE"
      },
      "execution_count": 8,
      "outputs": []
    },
    {
      "cell_type": "markdown",
      "source": [
        "## Array Size\n",
        "Note:<br>\n",
        "Set it to your liking.<br>\n",
        "Each sort can have different array size.<br>\n",
        "Unset size will be changed into DEFAULT_ARR_SIZE"
      ],
      "metadata": {
        "id": "N0EwxJknrJ6j"
      }
    },
    {
      "cell_type": "code",
      "source": [
        "DEFAULT_ARR_SIZE = 10"
      ],
      "metadata": {
        "id": "7WU7HPnmnvRN"
      },
      "execution_count": 9,
      "outputs": []
    },
    {
      "cell_type": "markdown",
      "source": [
        "#Useful sort collection visualization"
      ],
      "metadata": {
        "id": "N_N1sibQszV6"
      }
    },
    {
      "cell_type": "markdown",
      "source": [
        "##Bubble Sort"
      ],
      "metadata": {
        "id": "_wV4dV5JtF-r"
      }
    },
    {
      "cell_type": "code",
      "source": [
        "#array size\n",
        "size = 0\n",
        "if size <= 0:\n",
        "    size = DEFAULT_ARR_SIZE\n",
        "arr = rd.sample(range(1,size+1),size)\n",
        "\n",
        "# animation loop\n",
        "for i in range(size):\n",
        "    for j in range(1,size-i):\n",
        "        display_flip(arr, j-1, j, size-i)\n",
        "        if arr[j-1]>arr[j]:\n",
        "            arr[j-1], arr[j] = arr[j], arr[j-1]\n",
        "            display_flip(arr, j, j-1, size-i)\n",
        "        else:\n",
        "            display_flip(arr, j, -1, size-i)\n",
        "display_flip(arr)"
      ],
      "metadata": {
        "colab": {
          "base_uri": "https://localhost:8080/",
          "height": 317
        },
        "id": "IvxBh2jYnxRt",
        "outputId": "fec94886-ea74-4d8d-f98a-e3d721efc888"
      },
      "execution_count": 10,
      "outputs": [
        {
          "output_type": "display_data",
          "data": {
            "text/plain": [
              "<PIL.Image.Image image mode=RGB size=600x300 at 0x7F4508220400>"
            ],
            "image/png": "[encoded data removed]"
          },
          "metadata": {}
        }
      ]
    },
    {
      "cell_type": "markdown",
      "source": [
        "##Insertion Sort"
      ],
      "metadata": {
        "id": "cz0ae0-XSUT1"
      }
    },
    {
      "cell_type": "code",
      "source": [
        "#array size\n",
        "size = 0\n",
        "if size <= 0:\n",
        "    size = DEFAULT_ARR_SIZE\n",
        "\n",
        "# animation loop\n",
        "arr = rd.sample(range(1,size+1),size)\n",
        "for i in range(1,size):\n",
        "    pick = arr[i]\n",
        "    for j in range(i,0,-1):\n",
        "        display_flip(arr, j, j-1, i)\n",
        "        if pick<arr[j-1]:\n",
        "            arr[j] = arr[j-1]\n",
        "            display_flip(arr, j, j-1, i)\n",
        "        else:\n",
        "            arr[j] = pick\n",
        "            display_flip(arr, j, -1, i)\n",
        "            break\n",
        "    else:\n",
        "        arr[0] = pick\n",
        "        display_flip(arr, 0, -1, i)\n",
        "display_flip(arr)"
      ],
      "metadata": {
        "colab": {
          "base_uri": "https://localhost:8080/",
          "height": 317
        },
        "id": "49EMCmX2SvCj",
        "outputId": "377e662b-e7d3-48f0-da5c-c6c51c99d8c3"
      },
      "execution_count": 11,
      "outputs": [
        {
          "output_type": "display_data",
          "data": {
            "text/plain": [
              "<PIL.Image.Image image mode=RGB size=600x300 at 0x7F4503381A30>"
            ],
            "image/png": "[encoded data removed]"
          },
          "metadata": {}
        }
      ]
    },
    {
      "cell_type": "markdown",
      "source": [
        "###Gnome Sort\n",
        "A variation of insertion sort.<br>\n",
        "While it's slower than Insertion Sort in every case,<br>\n",
        "it's easier to understand the visualization."
      ],
      "metadata": {
        "id": "a6cnK9OmTfVG"
      }
    },
    {
      "cell_type": "code",
      "source": [
        "#array size\n",
        "size = 0\n",
        "if size <= 0:\n",
        "    size = DEFAULT_ARR_SIZE\n",
        "arr = rd.sample(range(1,size+1),size)\n",
        "\n",
        "# animation loop\n",
        "for i in range(1,size):\n",
        "    for j in range(i,0,-1):\n",
        "        display_flip(arr, j, j-1, i)\n",
        "        if arr[j]<arr[j-1]:\n",
        "            arr[j], arr[j-1] = arr[j-1], arr[j]\n",
        "            display_flip(arr, j-1, j, i)\n",
        "        else:\n",
        "            display_flip(arr, j, j, i)\n",
        "            break\n",
        "display_flip(arr)"
      ],
      "metadata": {
        "colab": {
          "base_uri": "https://localhost:8080/",
          "height": 317
        },
        "id": "NyQpmWKMTyYU",
        "outputId": "53c37af0-cb5c-4cdf-a7f9-932305709640"
      },
      "execution_count": 12,
      "outputs": [
        {
          "output_type": "display_data",
          "data": {
            "text/plain": [
              "<PIL.Image.Image image mode=RGB size=600x300 at 0x7F4503381880>"
            ],
            "image/png": "[encoded data removed]"
          },
          "metadata": {}
        }
      ]
    },
    {
      "cell_type": "markdown",
      "source": [
        "##Selection Sort"
      ],
      "metadata": {
        "id": "LlDXdkIri9Wo"
      }
    },
    {
      "cell_type": "code",
      "source": [
        "#array size\n",
        "size = 0\n",
        "if size <= 0:\n",
        "    size = DEFAULT_ARR_SIZE\n",
        "\n",
        "# animation loop\n",
        "arr = rd.sample(range(1,size+1),size)\n",
        "for i in range(0,size-1):\n",
        "    min = i\n",
        "    for j in range(i+1,size):\n",
        "        display_flip(arr, min, j, i)\n",
        "        if arr[min]>arr[j]:\n",
        "            min = j\n",
        "            display_flip(arr, min, -1, i)\n",
        "    else:\n",
        "        if min != size-1:\n",
        "            display_flip(arr, min, -1, i)\n",
        "        arr[i], arr[min] = arr[min], arr[i]\n",
        "        display_flip(arr, i)\n",
        "display_flip(arr)"
      ],
      "metadata": {
        "colab": {
          "base_uri": "https://localhost:8080/",
          "height": 317
        },
        "id": "THAuyedLi8uR",
        "outputId": "072d9e9b-f3ca-43ef-8fe4-ebaca2fb2a55"
      },
      "execution_count": 13,
      "outputs": [
        {
          "output_type": "display_data",
          "data": {
            "text/plain": [
              "<PIL.Image.Image image mode=RGB size=600x300 at 0x7F450821CFD0>"
            ],
            "image/png": "[encoded data removed]"
          },
          "metadata": {}
        }
      ]
    },
    {
      "cell_type": "markdown",
      "source": [
        "##Quicksort"
      ],
      "metadata": {
        "id": "CRL70MDtVh2b"
      }
    },
    {
      "cell_type": "code",
      "source": [
        "#array size\n",
        "size = 15\n",
        "if size <= 0:\n",
        "    size = DEFAULT_ARR_SIZE\n",
        "arr = rd.sample(range(1,size+1),size)\n",
        "\n",
        "#quicksort function\n",
        "def quicksort(l, r):\n",
        "    if l>=r:\n",
        "        return\n",
        "    pivot = arr[l]\n",
        "    i = l+1\n",
        "    j = r\n",
        "    count = 25\n",
        "    while i<=j and count>0:\n",
        "        display_flip(arr,i,j,l)\n",
        "        while j>=l+1 and arr[j]>=pivot:\n",
        "            j-=1\n",
        "            if j>l+1:\n",
        "                display_flip(arr,i,j,l)\n",
        "        display_flip(arr,j,i,l)\n",
        "        while i<=r and arr[i]<=pivot:\n",
        "            i+=1\n",
        "            if i<r:\n",
        "                display_flip(arr,j,i,l)\n",
        "        if i<j:\n",
        "            display_flip(arr,[i,j],-1,l)\n",
        "            arr[i], arr[j] = arr[j], arr[i]\n",
        "            display_flip(arr,[i,j],-1,l)\n",
        "    display_flip(arr,[l,j])\n",
        "    if l != j:\n",
        "      arr[l], arr[j] = arr[j], arr[l]\n",
        "      display_flip(arr,[l,j])\n",
        "    quicksort(l, j-1)\n",
        "    quicksort(j+1, r)\n",
        "    \n",
        "# animation loop\n",
        "quicksort(0,len(arr)-1)\n",
        "display_flip(arr)"
      ],
      "metadata": {
        "colab": {
          "base_uri": "https://localhost:8080/",
          "height": 317
        },
        "id": "ldfzlPlNV-Et",
        "outputId": "475adc78-7ee6-47fb-be32-004686fbdd04"
      },
      "execution_count": 16,
      "outputs": [
        {
          "output_type": "display_data",
          "data": {
            "text/plain": [
              "<PIL.Image.Image image mode=RGB size=600x300 at 0x7F450333D610>"
            ],
            "image/png": "[encoded data removed]"
          },
          "metadata": {}
        }
      ]
    }
  ]
}